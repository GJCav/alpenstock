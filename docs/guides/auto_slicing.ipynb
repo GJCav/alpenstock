{
 "cells": [
  {
   "cell_type": "markdown",
   "id": "bd331dea",
   "metadata": {},
   "source": [
    "# AutoSliceMixin - Automatic Slicing for Your Data Classes"
   ]
  },
  {
   "cell_type": "markdown",
   "id": "e627d6bf",
   "metadata": {},
   "source": [
    "`AutoSliceMixin` saves your live from repeating `__getitem__` for your data classes.\n",
    "\n",
    "## Quick Start"
   ]
  },
  {
   "cell_type": "code",
   "execution_count": 1,
   "id": "f0390321",
   "metadata": {},
   "outputs": [
    {
     "data": {
      "text/plain": [
       "Weather(city='Gotham', postcode=12345, temperatures=[1, 4, 5], humidities=array([10, 40, 50]), sitewise_temperatures=array([[1, 4, 1],\n",
       "       [7, 1, 8]]))"
      ]
     },
     "execution_count": 1,
     "metadata": {},
     "output_type": "execute_result"
    }
   ],
   "source": [
    "from alpenstock.auto_slice import AutoSliceMixin, SliceHint\n",
    "import attrs\n",
    "from typing import Annotated\n",
    "import numpy as np\n",
    "\n",
    "@attrs.define\n",
    "class Weather(AutoSliceMixin):\n",
    "    city: str                    # scalar attribute (preserved during slicing)\n",
    "    postcode: int                # scalar attribute (preserved during slicing)\n",
    "    temperatures: list[float]    # shape (T,) - will be sliced\n",
    "    humidities: np.ndarray       # shape (T,) - will be sliced\n",
    "    sitewise_temperatures: Annotated[\n",
    "        np.ndarray, SliceHint(axis=1)\n",
    "    ]  # shape (N, T) - will be sliced along axis 1\n",
    "\n",
    "\n",
    "# Create a sample weather data instance\n",
    "data = Weather(\n",
    "    city=\"Gotham\",\n",
    "    postcode=12345,\n",
    "    temperatures=[1, 1, 4, 5, 1, 4],\n",
    "    humidities=np.array([10, 10, 40, 50, 10, 40]),\n",
    "    sitewise_temperatures=np.array([[3, 1, 4, 1, 5, 9], [2, 7, 1, 8, 2, 8]]),\n",
    ")\n",
    "\n",
    "# Slicing result\n",
    "subset = data[1:4]\n",
    "assert subset.city == \"Gotham\"\n",
    "assert subset.postcode == 12345\n",
    "assert subset.temperatures == [1, 4, 5]\n",
    "assert np.allclose(subset.humidities, np.array([10, 40, 50]))\n",
    "assert np.allclose(subset.sitewise_temperatures, np.array([[1, 4, 1], [7, 1, 8]]))\n",
    "\n",
    "subset"
   ]
  },
  {
   "cell_type": "markdown",
   "id": "a896d0c6",
   "metadata": {},
   "source": [
    "## NumPy-like Slicing\n",
    "\n",
    "`AutoSliceMixin` also supports fancy indexing using either a list of indices or boolean masks:"
   ]
  },
  {
   "cell_type": "code",
   "execution_count": 2,
   "id": "aee07088",
   "metadata": {},
   "outputs": [
    {
     "data": {
      "text/plain": [
       "Weather(city='Gotham', postcode=12345, temperatures=[1, 5, 4, 4], humidities=array([10, 50, 40, 40]), sitewise_temperatures=array([[3, 1, 4, 9],\n",
       "       [2, 8, 1, 8]]))"
      ]
     },
     "execution_count": 2,
     "metadata": {},
     "output_type": "execute_result"
    }
   ],
   "source": [
    "# Using a list of indices\n",
    "subset = data[[0, 3, 2, -1]]\n",
    "subset"
   ]
  },
  {
   "cell_type": "code",
   "execution_count": 3,
   "id": "63d1b74a",
   "metadata": {},
   "outputs": [
    {
     "data": {
      "text/plain": [
       "Weather(city='Gotham', postcode=12345, temperatures=[1, 4, 4], humidities=array([10, 40, 40]), sitewise_temperatures=array([[3, 4, 9],\n",
       "       [2, 1, 8]]))"
      ]
     },
     "execution_count": 3,
     "metadata": {},
     "output_type": "execute_result"
    }
   ],
   "source": [
    "# Using a boolean mask\n",
    "mask = [True, False, True, False, False, True]\n",
    "subset = data[mask]\n",
    "subset"
   ]
  },
  {
   "cell_type": "markdown",
   "id": "a0a05b87",
   "metadata": {},
   "source": [
    "## Indexing is prohibited intentionally\n",
    "\n",
    "`AutoSliceMixin` only supports slicing semantics (no single index access). This means you cannot do `data[0]` to get a single item. If you insist so, an error is raised:"
   ]
  },
  {
   "cell_type": "code",
   "execution_count": 4,
   "id": "57a36a5d",
   "metadata": {},
   "outputs": [
    {
     "name": "stdout",
     "output_type": "stream",
     "text": [
      "ERROR:  `AutoSliceMixin` only supports slicing semantics, but key type of <class 'int'> implies indexing\n"
     ]
    }
   ],
   "source": [
    "@attrs.define\n",
    "class SimpleData(AutoSliceMixin):\n",
    "    name: str\n",
    "    data: list[float]\n",
    "    \n",
    "data = SimpleData(name=\"no indexing\", data=[0, 1, 2, 4])\n",
    "\n",
    "try:\n",
    "    data[5]\n",
    "except Exception as e:\n",
    "    assert isinstance(e, ValueError)\n",
    "    print(\"ERROR: \", e)"
   ]
  },
  {
   "cell_type": "markdown",
   "id": "8459be45",
   "metadata": {},
   "source": [
    "Indexing semantics is prohibited intentionally. Because indexing reduces the dimension of an array-like object, changing its the type siliently. For example, a `np.array([0, 1, 2], dtype=np.int64)` becomes `np.int64(1)` after indexing. Such kind of type change may introduce many problems. So, indexing is banned."
   ]
  },
  {
   "cell_type": "markdown",
   "id": "59ec645d",
   "metadata": {},
   "source": [
    "## Customization\n",
    "\n",
    "AutoSliceMixin allows you to customize how slicing behaves for specific attributes using `SliceHint`. Here's an example:"
   ]
  },
  {
   "cell_type": "code",
   "execution_count": 5,
   "id": "69b30a42",
   "metadata": {},
   "outputs": [],
   "source": [
    "# Define a custom slicing function for strings\n",
    "def fancy_slice_for_str(value: str, key, hint: SliceHint = None):\n",
    "    if isinstance(key, slice):\n",
    "        return value[key]\n",
    "    \n",
    "    value = np.asarray(list(value))\n",
    "    rst = \"\".join(value[key])\n",
    "    return rst\n",
    "\n",
    "@attrs.define\n",
    "class Weather(AutoSliceMixin):\n",
    "    # treated as a scalar\n",
    "    city: str\n",
    "    \n",
    "    # shape (T,) array, slicing enabled\n",
    "    temperatures: list[float]\n",
    "    \n",
    "    # shape (T,) string, slicing enabled manually\n",
    "    raining: Annotated[str, SliceHint(func=fancy_slice_for_str)]\n",
    "    \n",
    "    # shape (H, W) array, copied to the slicing result (treated as scalar)\n",
    "    site_image: Annotated[np.ndarray, SliceHint(func=\"copy\")]\n",
    "\n",
    "# Create sample data\n",
    "data = Weather(\n",
    "    city=\"ga kuen to shi\",\n",
    "    temperatures=[15, 20, 57, 15],\n",
    "    raining=\"RSWW\",  # raining, sunny, windy, windy\n",
    "    site_image=np.array([[0, 1], [3, 4]])\n",
    ")\n",
    "\n",
    "# Try different slicing operations\n",
    "subset = data[1:-1]\n",
    "assert subset.city == \"ga kuen to shi\"\n",
    "assert subset.temperatures == [20, 57]\n",
    "assert subset.raining == \"SW\"\n",
    "assert np.allclose(subset.site_image, [[0, 1], [3, 4]])"
   ]
  },
  {
   "cell_type": "markdown",
   "id": "8c847e73",
   "metadata": {},
   "source": [
    "In this example, we show several ways to customize slicing behavior:\n",
    "\n",
    "1. **Custom Slicing Function**: The `raining` attribute uses a custom function `fancy_slice_for_str` that handles slicing for string data by converting it to a character array first.\n",
    "\n",
    "2. **Copy Instead of Slice**: The `site_image` attribute is configured to be copied instead of sliced using `SliceHint(func=\"copy\")`. This is useful for attributes that should remain unchanged across all slices.\n",
    "\n",
    "3. **Default Behavior**: The `temperatures` list is sliced using the default behavior, which works well for most array-like objects.\n",
    "\n",
    "The `SliceHint` annotation provides a flexible way to customize how each attribute behaves during slicing operations."
   ]
  },
  {
   "cell_type": "markdown",
   "id": "301d62c7",
   "metadata": {},
   "source": [
    "## Limitations\n",
    "\n",
    "Current limitations of AutoSliceMixin:\n",
    "\n",
    "1. **Framework Support**: Currently, only classes decorated with `attrs.define` are supported. Support for `pydantic.BaseModel` is planned for future releases.\n",
    "\n",
    "2. **Array-like Objects**: While AutoSliceMixin works with most array-like objects (lists, numpy arrays, etc.), custom objects must implement proper slicing behavior to work correctly with the mixin."
   ]
  }
 ],
 "metadata": {
  "kernelspec": {
   "display_name": "default",
   "language": "python",
   "name": "python3"
  },
  "language_info": {
   "codemirror_mode": {
    "name": "ipython",
    "version": 3
   },
   "file_extension": ".py",
   "mimetype": "text/x-python",
   "name": "python",
   "nbconvert_exporter": "python",
   "pygments_lexer": "ipython3",
   "version": "3.13.5"
  }
 },
 "nbformat": 4,
 "nbformat_minor": 5
}
