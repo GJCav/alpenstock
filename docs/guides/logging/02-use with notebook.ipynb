{
 "cells": [
  {
   "cell_type": "markdown",
   "id": "084c42f4",
   "metadata": {},
   "source": [
    "# Logging in Jupyter Notebooks\n",
    "\n",
    "## Initialize"
   ]
  },
  {
   "cell_type": "code",
   "execution_count": 1,
   "id": "0f6aee4e",
   "metadata": {},
   "outputs": [
    {
     "name": "stderr",
     "output_type": "stream",
     "text": [
      "\u001b[32m07-07 12:52:23\u001b[0m|\u001b[31m\u001b[1m\u001b[1mERROR  \u001b[0m\u001b[31m\u001b[1m\u001b[0m|\u001b[31m\u001b[1m\u001b[22mThis is an error message.\u001b[0m\u001b[31m\u001b[1m\u001b[0m\n",
      "\u001b[32m07-07 12:52:23\u001b[0m|\u001b[32m\u001b[1m\u001b[1mSUCCESS\u001b[0m\u001b[32m\u001b[1m\u001b[0m|\u001b[32m\u001b[1m\u001b[22mThis is a success message.\u001b[0m\u001b[32m\u001b[1m\u001b[0m\n",
      "\u001b[32m07-07 12:52:23\u001b[0m|\u001b[33m\u001b[1m\u001b[1mWARNING\u001b[0m\u001b[33m\u001b[1m\u001b[0m|\u001b[33m\u001b[1m\u001b[22mThis is a warning message.\u001b[0m\u001b[33m\u001b[1m\u001b[0m\n",
      "\u001b[32m07-07 12:52:23\u001b[0m|\u001b[1mINFO   \u001b[0m\u001b[0m|\u001b[22mThis is an info message.\u001b[0m\u001b[0m\n",
      "\u001b[32m07-07 12:52:23\u001b[0m|\u001b[38;2;159;204;224m\u001b[1mDEBUG  \u001b[0m\u001b[38;2;159;204;224m\u001b[0m|\u001b[38;2;159;204;224m\u001b[22mThis is a debug message.\u001b[0m\u001b[38;2;159;204;224m\u001b[0m\n",
      "\u001b[32m07-07 12:52:23\u001b[0m|\u001b[90m\u001b[1mTRACE  \u001b[0m\u001b[90m\u001b[0m|\u001b[90m\u001b[22mThis is a trace message.\u001b[0m\u001b[90m\u001b[0m\n"
     ]
    }
   ],
   "source": [
    "from alpenstock.logging import logger, LoguruInitalizer\n",
    "\n",
    "(\n",
    "    LoguruInitalizer()\n",
    "    .preset_brief()\n",
    "    .set_level(\"TRACE\")\n",
    "    .initialize()\n",
    ")\n",
    "\n",
    "logger.error(\"This is an error message.\")\n",
    "logger.success(\"This is a success message.\")\n",
    "logger.warning(\"This is a warning message.\")\n",
    "logger.info(\"This is an info message.\")\n",
    "logger.debug(\"This is a debug message.\")\n",
    "logger.trace(\"This is a trace message.\")"
   ]
  },
  {
   "cell_type": "markdown",
   "id": "5e3fe567",
   "metadata": {},
   "source": [
    "## Re-configuration"
   ]
  },
  {
   "cell_type": "code",
   "execution_count": 2,
   "id": "508f3bc2",
   "metadata": {},
   "outputs": [
    {
     "name": "stderr",
     "output_type": "stream",
     "text": [
      "\u001b[32m07-07 12:52:25\u001b[0m|\u001b[32m\u001b[1m\u001b[1mSUCCESS\u001b[0m\u001b[32m\u001b[1m\u001b[0m|\u001b[32m\u001b[1m\u001b[22mThis is a success message.\u001b[0m\u001b[32m\u001b[1m\u001b[0m\n",
      "\u001b[32m07-07 12:52:25\u001b[0m|\u001b[33m\u001b[1m\u001b[1mWARNING\u001b[0m\u001b[33m\u001b[1m\u001b[0m|\u001b[33m\u001b[1m\u001b[22mThis is a warning message.\u001b[0m\u001b[33m\u001b[1m\u001b[0m\n",
      "\u001b[32m07-07 12:52:25\u001b[0m|\u001b[1mINFO   \u001b[0m\u001b[0m|\u001b[22mThis is an info message.\u001b[0m\u001b[0m\n"
     ]
    }
   ],
   "source": [
    "(\n",
    "    LoguruInitalizer()\n",
    "    .preset_brief()\n",
    "    .set_level(\"INFO\")\n",
    "    .initialize(on_reinitialize='overwrite')\n",
    ")\n",
    "\n",
    "logger.success(\"This is a success message.\")\n",
    "logger.warning(\"This is a warning message.\")\n",
    "logger.info(\"This is an info message.\")\n",
    "logger.debug(\"This is a debug message.\")\n",
    "logger.trace(\"This is a trace message.\")"
   ]
  }
 ],
 "metadata": {
  "kernelspec": {
   "display_name": "default",
   "language": "python",
   "name": "python3"
  },
  "language_info": {
   "codemirror_mode": {
    "name": "ipython",
    "version": 3
   },
   "file_extension": ".py",
   "mimetype": "text/x-python",
   "name": "python",
   "nbconvert_exporter": "python",
   "pygments_lexer": "ipython3",
   "version": "3.13.5"
  }
 },
 "nbformat": 4,
 "nbformat_minor": 5
}
