{
 "cells": [
  {
   "cell_type": "code",
   "execution_count": 1,
   "id": "52d5848b",
   "metadata": {},
   "outputs": [],
   "source": [
    "from alpenstock.logging import logger, LoguruInitalizer"
   ]
  },
  {
   "cell_type": "code",
   "execution_count": null,
   "id": "0f6aee4e",
   "metadata": {},
   "outputs": [],
   "source": [
    "(\n",
    "    LoguruInitalizer()\n",
    "    .preset_brief()\n",
    "    .set_level(\"TRACE\")\n",
    "    # .serialize_to_file('test.log')\n",
    "    .initialize()\n",
    ")"
   ]
  },
  {
   "cell_type": "code",
   "execution_count": 3,
   "id": "b307b9e9",
   "metadata": {},
   "outputs": [
    {
     "name": "stderr",
     "output_type": "stream",
     "text": [
      "\u001b[32m07-03 03:13:10\u001b[0m|\u001b[31m\u001b[1m\u001b[1mERROR  \u001b[0m\u001b[31m\u001b[1m\u001b[0m|\u001b[31m\u001b[1m\u001b[22mThis is an error message.\u001b[0m\u001b[31m\u001b[1m\u001b[0m\n",
      "\u001b[32m07-03 03:13:10\u001b[0m|\u001b[32m\u001b[1m\u001b[1mSUCCESS\u001b[0m\u001b[32m\u001b[1m\u001b[0m|\u001b[32m\u001b[1m\u001b[22mThis is a success message.\u001b[0m\u001b[32m\u001b[1m\u001b[0m\n",
      "\u001b[32m07-03 03:13:10\u001b[0m|\u001b[33m\u001b[1m\u001b[1mWARNING\u001b[0m\u001b[33m\u001b[1m\u001b[0m|\u001b[33m\u001b[1m\u001b[22mThis is a warning message.\u001b[0m\u001b[33m\u001b[1m\u001b[0m\n",
      "\u001b[32m07-03 03:13:10\u001b[0m|\u001b[36m\u001b[1mINFO   \u001b[0m\u001b[36m\u001b[0m|\u001b[36m\u001b[22mThis is an info message.\u001b[0m\u001b[36m\u001b[0m\n",
      "\u001b[32m07-03 03:13:10\u001b[0m|\u001b[1mDEBUG  \u001b[0m\u001b[0m|\u001b[22mThis is a debug message.\u001b[0m\u001b[0m\n",
      "\u001b[32m07-03 03:13:10\u001b[0m|\u001b[90m\u001b[1mTRACE  \u001b[0m\u001b[90m\u001b[0m|\u001b[90m\u001b[22mThis is a trace message.\u001b[0m\u001b[90m\u001b[0m\n"
     ]
    }
   ],
   "source": [
    "logger.error(\"This is an error message.\")\n",
    "logger.success(\"This is a success message.\")\n",
    "logger.warning(\"This is a warning message.\")\n",
    "logger.info(\"This is an info message.\")\n",
    "logger.debug(\"This is a debug message.\")\n",
    "logger.trace(\"This is a trace message.\")"
   ]
  },
  {
   "cell_type": "code",
   "execution_count": 5,
   "id": "508f3bc2",
   "metadata": {},
   "outputs": [],
   "source": [
    "LoguruInitalizer().preset_brief().set_level(\"INFO\").initialize(on_reinitialize='overwrite')"
   ]
  },
  {
   "cell_type": "code",
   "execution_count": 6,
   "id": "8f0742db",
   "metadata": {},
   "outputs": [
    {
     "name": "stderr",
     "output_type": "stream",
     "text": [
      "\u001b[32m07-03 03:12:16\u001b[0m|\u001b[32m\u001b[1m\u001b[1mSUCCESS\u001b[0m\u001b[32m\u001b[1m\u001b[0m|\u001b[32m\u001b[1m\u001b[22mThis is a success message.\u001b[0m\u001b[32m\u001b[1m\u001b[0m\n",
      "\u001b[32m07-03 03:12:16\u001b[0m|\u001b[33m\u001b[1m\u001b[1mWARNING\u001b[0m\u001b[33m\u001b[1m\u001b[0m|\u001b[33m\u001b[1m\u001b[22mThis is a warning message.\u001b[0m\u001b[33m\u001b[1m\u001b[0m\n",
      "\u001b[32m07-03 03:12:16\u001b[0m|\u001b[36m\u001b[1mINFO   \u001b[0m\u001b[36m\u001b[0m|\u001b[36m\u001b[22mThis is an info message.\u001b[0m\u001b[36m\u001b[0m\n"
     ]
    }
   ],
   "source": [
    "logger.success(\"This is a success message.\")\n",
    "logger.warning(\"This is a warning message.\")\n",
    "logger.info(\"This is an info message.\")\n",
    "logger.debug(\"This is a debug message.\")\n",
    "logger.trace(\"This is a trace message.\")"
   ]
  }
 ],
 "metadata": {
  "kernelspec": {
   "display_name": "default",
   "language": "python",
   "name": "python3"
  },
  "language_info": {
   "codemirror_mode": {
    "name": "ipython",
    "version": 3
   },
   "file_extension": ".py",
   "mimetype": "text/x-python",
   "name": "python",
   "nbconvert_exporter": "python",
   "pygments_lexer": "ipython3",
   "version": "3.13.5"
  }
 },
 "nbformat": 4,
 "nbformat_minor": 5
}
